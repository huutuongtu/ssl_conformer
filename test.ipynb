{
 "cells": [
  {
   "cell_type": "code",
   "execution_count": 29,
   "metadata": {
    "tags": []
   },
   "outputs": [
    {
     "name": "stderr",
     "output_type": "stream",
     "text": [
      "100%|██████████| 35000/35000 [00:15<00:00, 2207.67it/s] \n",
      "100%|██████████| 600/600 [00:23<00:00, 25.72it/s]\n"
     ]
    },
    {
     "name": "stdout",
     "output_type": "stream",
     "text": [
      "16\n",
      "0.7333333333333333\n"
     ]
    },
    {
     "name": "stderr",
     "output_type": "stream",
     "text": [
      "100%|██████████| 35000/35000 [00:14<00:00, 2414.60it/s] \n",
      "100%|██████████| 600/600 [00:22<00:00, 26.11it/s]\n"
     ]
    },
    {
     "name": "stdout",
     "output_type": "stream",
     "text": [
      "32\n",
      "0.78\n"
     ]
    },
    {
     "name": "stderr",
     "output_type": "stream",
     "text": [
      "100%|██████████| 35000/35000 [00:14<00:00, 2434.00it/s] \n",
      "100%|██████████| 600/600 [00:21<00:00, 27.62it/s]\n"
     ]
    },
    {
     "name": "stdout",
     "output_type": "stream",
     "text": [
      "64\n",
      "0.76\n"
     ]
    },
    {
     "name": "stderr",
     "output_type": "stream",
     "text": [
      "100%|██████████| 35000/35000 [00:14<00:00, 2465.71it/s] \n",
      "100%|██████████| 600/600 [00:24<00:00, 24.50it/s]\n"
     ]
    },
    {
     "name": "stdout",
     "output_type": "stream",
     "text": [
      "128\n",
      "0.76\n"
     ]
    },
    {
     "name": "stderr",
     "output_type": "stream",
     "text": [
      "100%|██████████| 35000/35000 [00:14<00:00, 2410.58it/s] \n",
      "100%|██████████| 600/600 [00:21<00:00, 27.37it/s]\n"
     ]
    },
    {
     "name": "stdout",
     "output_type": "stream",
     "text": [
      "256\n",
      "0.7516666666666667\n"
     ]
    },
    {
     "name": "stderr",
     "output_type": "stream",
     "text": [
      "100%|██████████| 35000/35000 [00:14<00:00, 2395.86it/s] \n",
      "100%|██████████| 600/600 [00:21<00:00, 27.50it/s]"
     ]
    },
    {
     "name": "stdout",
     "output_type": "stream",
     "text": [
      "512\n",
      "0.7416666666666667\n"
     ]
    },
    {
     "name": "stderr",
     "output_type": "stream",
     "text": [
      "\n"
     ]
    }
   ],
   "source": [
    "from dataloader_ds import AudioDataset, load_wav\n",
    "from tqdm import tqdm\n",
    "from torch.utils.data import DataLoader\n",
    "from models import Conformer_SER_SSL, SSL_SER_Config, Downstream_model\n",
    "from torch.nn import functional as F\n",
    "import torch.nn as nn\n",
    "import torch\n",
    "import json\n",
    "import argparse\n",
    "import os\n",
    "import pandas as pd\n",
    "import numpy as np\n",
    "from tqdm import tqdm\n",
    "\n",
    "device = 'cuda'\n",
    "\n",
    "\n",
    "batches = [16, 32, 64, 128, 256, 512]\n",
    "for xyz in batches:\n",
    "    #remove _200 to get 100 epochs performance\n",
    "    load_dir = \"./logs/log_\" + str(xyz) + \"/\" + \"checkpoint_200.pth\"\n",
    "    dev = pd.read_csv(\"train.csv\")\n",
    "    device = 'cuda'\n",
    "    with open(\"config.json\", \"r\", encoding='utf8') as f:\n",
    "        cfg_dict = json.load(f)\n",
    "    cfg = SSL_SER_Config(cfg_dict)\n",
    "    ssl = Conformer_SER_SSL(cfg).to(device)\n",
    "    ssl.load_state_dict(torch.load(load_dir))\n",
    "\n",
    "    labels = []\n",
    "    embedding = []\n",
    "    with torch.no_grad():\n",
    "        for point in tqdm(range(len(dev))):\n",
    "            path = dev['Path'][point]\n",
    "            label = dev['Label'][point]\n",
    "            if labels.count(label)<3:\n",
    "                audio, sampling_rate = load_wav(path)\n",
    "                input = ssl.get_embedding(torch.tensor(audio, device=device).unsqueeze(0))\n",
    "                labels.append(label)\n",
    "                embedding.append(input.detach().cpu().numpy())\n",
    "\n",
    "\n",
    "    test_labels = []\n",
    "    pred_labels = []\n",
    "    dev = pd.read_csv(\"test.csv\")\n",
    "    with torch.no_grad():\n",
    "        for point in tqdm(range(len(dev))):\n",
    "            path = dev['Path'][point]\n",
    "            label = dev['Label'][point]\n",
    "            audio, sampling_rate = load_wav(path)\n",
    "            input = ssl.get_embedding(torch.tensor(audio, device=device).unsqueeze(0)).detach().cpu().numpy()\n",
    "            test_labels.append(label)\n",
    "            max_cosine_similarity = -1\n",
    "            pred_label = -1\n",
    "            for i in range(len(embedding)):\n",
    "                emb = embedding[i]\n",
    "                dot_product = np.dot(input.squeeze(0), emb.squeeze(0))\n",
    "                norm_tensor1 = np.linalg.norm(input.squeeze(0))\n",
    "                norm_tensor2 = np.linalg.norm(emb.squeeze(0))\n",
    "                cosine_similarity = dot_product / (norm_tensor1 * norm_tensor2)\n",
    "                if cosine_similarity>max_cosine_similarity:\n",
    "                    pred_label = labels[i]\n",
    "                    max_cosine_similarity = cosine_similarity\n",
    "            pred_labels.append(pred_label)\n",
    "\n",
    "    cnt = 0\n",
    "    for i in range(len(pred_labels)):\n",
    "        if pred_labels[i]==test_labels[i]:\n",
    "            cnt+=1\n",
    "    print(xyz)\n",
    "    print(cnt/len(dev))\n",
    "\n"
   ]
  }
 ],
 "metadata": {
  "kernelspec": {
   "display_name": "Python 3 (ipykernel)",
   "language": "python",
   "name": "python3"
  },
  "language_info": {
   "codemirror_mode": {
    "name": "ipython",
    "version": 3
   },
   "file_extension": ".py",
   "mimetype": "text/x-python",
   "name": "python",
   "nbconvert_exporter": "python",
   "pygments_lexer": "ipython3",
   "version": "3.11.6"
  }
 },
 "nbformat": 4,
 "nbformat_minor": 4
}
